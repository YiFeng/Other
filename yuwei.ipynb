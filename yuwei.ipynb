{
  "nbformat": 4,
  "nbformat_minor": 0,
  "metadata": {
    "colab": {
      "name": "yuwei.ipynb",
      "provenance": [],
      "collapsed_sections": [],
      "mount_file_id": "1MVayhRTA4lQXX7iT3F2oc7XlpfP2K4Vi",
      "authorship_tag": "ABX9TyOnVmQv3gS7lMdHEF2hixUG",
      "include_colab_link": true
    },
    "kernelspec": {
      "name": "python3",
      "display_name": "Python 3"
    },
    "language_info": {
      "name": "python"
    }
  },
  "cells": [
    {
      "cell_type": "markdown",
      "metadata": {
        "id": "view-in-github",
        "colab_type": "text"
      },
      "source": [
        "<a href=\"https://colab.research.google.com/github/YiFeng/Other/blob/main/yuwei.ipynb\" target=\"_parent\"><img src=\"https://colab.research.google.com/assets/colab-badge.svg\" alt=\"Open In Colab\"/></a>"
      ]
    },
    {
      "cell_type": "code",
      "metadata": {
        "colab": {
          "base_uri": "https://localhost:8080/"
        },
        "id": "A3dbl8uvb1mA",
        "outputId": "c1534e9a-89da-4612-ea74-4086cb136180"
      },
      "source": [
        "# pip install pyddm"
      ],
      "execution_count": 1,
      "outputs": [
        {
          "output_type": "stream",
          "text": [
            "Requirement already satisfied: pyddm in /usr/local/lib/python3.7/dist-packages (0.5.1)\n",
            "Requirement already satisfied: numpy>=1.9.2 in /usr/local/lib/python3.7/dist-packages (from pyddm) (1.19.5)\n",
            "Requirement already satisfied: scipy>=0.16 in /usr/local/lib/python3.7/dist-packages (from pyddm) (1.4.1)\n",
            "Requirement already satisfied: matplotlib in /usr/local/lib/python3.7/dist-packages (from pyddm) (3.2.2)\n",
            "Requirement already satisfied: paranoid-scientist>=0.2.1 in /usr/local/lib/python3.7/dist-packages (from pyddm) (0.2.2)\n",
            "Requirement already satisfied: cycler>=0.10 in /usr/local/lib/python3.7/dist-packages (from matplotlib->pyddm) (0.10.0)\n",
            "Requirement already satisfied: pyparsing!=2.0.4,!=2.1.2,!=2.1.6,>=2.0.1 in /usr/local/lib/python3.7/dist-packages (from matplotlib->pyddm) (2.4.7)\n",
            "Requirement already satisfied: kiwisolver>=1.0.1 in /usr/local/lib/python3.7/dist-packages (from matplotlib->pyddm) (1.3.1)\n",
            "Requirement already satisfied: python-dateutil>=2.1 in /usr/local/lib/python3.7/dist-packages (from matplotlib->pyddm) (2.8.1)\n",
            "Requirement already satisfied: six in /usr/local/lib/python3.7/dist-packages (from cycler>=0.10->matplotlib->pyddm) (1.15.0)\n"
          ],
          "name": "stdout"
        }
      ]
    },
    {
      "cell_type": "code",
      "metadata": {
        "id": "XDcnusAwJYW-"
      },
      "source": [
        "## This script was revised by Yi Feng at 07/15/2021\n",
        "# Import library\n",
        "import pandas as pd\n",
        "import numpy as np\n",
        "import matplotlib.pyplot as plt\n",
        "from os import walk\n",
        "\n",
        "from ddm import Sample\n",
        "import ddm.models\n",
        "import ddm.plot\n",
        "from ddm import Model, Fittable\n",
        "from ddm.functions import fit_adjust_model, display_model\n",
        "from ddm.models import NoiseConstant, BoundConstant, OverlayChain, OverlayNonDecision, OverlayPoissonMixture"
      ],
      "execution_count": 2,
      "outputs": []
    },
    {
      "cell_type": "code",
      "metadata": {
        "id": "kHPrX3gQIo-1"
      },
      "source": [
        "# set work directory\n",
        "data_dir = '/content/drive/MyDrive/yuwei/' #put your data folder path here\n",
        "pic_dir = '/content/drive/MyDrive/pic/' #put your pic folder path here\n",
        "result_dir = '/content/drive/MyDrive/' #put the folder path you want to save params here\n",
        "# get all csv filenames from dir\n",
        "filenames = next(walk(data_dir), (None, None, []))[2] "
      ],
      "execution_count": 3,
      "outputs": []
    },
    {
      "cell_type": "code",
      "metadata": {
        "id": "iZxRXNHy5Q3X"
      },
      "source": [
        "# create a dataframe to save params\n",
        "result = pd.DataFrame(columns = ['Subid','DriftRatio','B','Nondectime'])\n",
        "\n",
        "# read each file and run the ddm \n",
        "for each_file in filenames:\n",
        "  with open(data_dir + each_file, \"r\") as f:\n",
        "    df_rt = pd.read_csv(f)\n",
        "  # delete \".csv\" to extract sub id\n",
        "  each_id = each_file[:len(each_file) - 4]\n",
        "  \n",
        "  # df_rt = df_rt[df_rt[\"monkey\"] == 1] # Only monkey 1\n",
        "    \n",
        "  # Remove short and long RTs This is not strictly necessary, but is performed here for\n",
        "  # compatibility with this study.\n",
        "  df_rt = df_rt[df_rt[\"RT\"] > .2] # Remove trials less than 200ms\n",
        "  df_rt = df_rt[df_rt[\"RT\"] < 2.5] # Remove trials greater than 3000ms\n",
        "    \n",
        "  # Create a sample object from our data.  This is the standard input\n",
        "  # format for fitting procedures.  Since RT and correct/error are\n",
        "  # both mandatory columns, their names are specified by command line\n",
        "  # arguments.\n",
        "  roitman_sample = Sample.from_pandas_dataframe(df_rt, rt_column_name=\"RT\", correct_column_name=\"ACC\")\n",
        "  class DriftRatio(ddm.models.Drift):\n",
        "      name = \"Drift depends linearly on Ratio\"\n",
        "      required_parameters = [\"driftRatio\"] # <-- Parameters we want to include in the model\n",
        "      required_conditions = [\"Ratio\"] # <-- Task parameters (\"conditions\"). Should be the same name as in the sample.\n",
        "      \n",
        "      # We must always define the get_drift function, which is used to compute the instantaneous value of drift.\n",
        "      def get_drift(self, conditions, **kwargs):\n",
        "          return self.driftRatio * conditions['Ratio']\n",
        "\n",
        "  model_rs = Model(name='Roitman data, drift varies with Ratio',\n",
        "                  drift=DriftRatio(driftRatio=Fittable(minval=0, maxval=20)),\n",
        "                  noise=NoiseConstant(noise=1),\n",
        "                  bound=BoundConstant(B=Fittable(minval=.1, maxval=1.5)),\n",
        "                  # Since we can only have one overlay, we use\n",
        "                  # OverlayChain to string together multiple overlays.\n",
        "                  # They are applied sequentially in order.  OverlayNonDecision\n",
        "                  # implements a non-decision time by shifting the\n",
        "                  # resulting distribution of response times by\n",
        "                  # `nondectime` seconds.\n",
        "                  overlay=OverlayChain(overlays=[OverlayNonDecision(nondectime=Fittable(minval=0, maxval=.4)),\n",
        "                                                  OverlayPoissonMixture(pmixturecoef=.02,\n",
        "                                                                        rate=1)]),\n",
        "                  dx=.001, dt=.01, T_dur=2)\n",
        "  # Fitting this will also be fast because PyDDM can automatically\n",
        "  # determine that DriftRatio will allow an analytical solution.\n",
        "  fit_model_rs, x_fit = fit_adjust_model(sample=roitman_sample, model=model_rs, verbose=False)\n",
        "\n",
        "  # display_model(fit_model_rs)\n",
        "  \n",
        "  # Return result\n",
        "  # README: please remmember to change the source code in function.py at line365, which should be: return m, x_fit.x\n",
        "  # x_fit.x is an array that contains all params: ['driftRatio','B','nondectime']\n",
        " \n",
        "  # create a dictionary for each sub to link params' names and values, also adding subid\n",
        "  data_to_append = {}\n",
        "  data_to_append['Subid'] = each_id\n",
        "  for i in range(1,len(result.columns)):\n",
        "    data_to_append[result.columns[i]] = x_fit[i-1]\n",
        "  # append all participants' params to dataframe\n",
        "  result = result.append(data_to_append, ignore_index = True)\n",
        "  \n",
        "  # plot\n",
        "  Model.get_fit_result(fit_model_rs)\n",
        "  fig,ax = plt.subplots(figsize=(6,4)) # define fig size\n",
        "  ddm.plot.plot_fit_diagnostics(model=fit_model_rs, sample=roitman_sample)\n",
        "  plt.savefig(pic_dir + each_id + \".png\")\n",
        "  # plt.show()\n",
        "\n",
        "# save result to csv\n",
        "result.to_csv(result_dir + '/result.csv')"
      ],
      "execution_count": null,
      "outputs": []
    }
  ]
}